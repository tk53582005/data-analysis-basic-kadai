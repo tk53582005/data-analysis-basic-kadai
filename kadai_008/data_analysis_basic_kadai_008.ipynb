{
  "nbformat": 4,
  "nbformat_minor": 0,
  "metadata": {
    "colab": {
      "provenance": []
    },
    "kernelspec": {
      "name": "python3",
      "display_name": "Python 3"
    },
    "language_info": {
      "name": "python"
    }
  },
  "cells": [
    {
      "cell_type": "code",
      "execution_count": 7,
      "metadata": {
        "colab": {
          "base_uri": "https://localhost:8080/"
        },
        "id": "lb_TmtvSZRXp",
        "outputId": "114c7123-f1cc-49b2-ed39-f3aa7f37d2bb"
      },
      "outputs": [
        {
          "output_type": "stream",
          "name": "stdout",
          "text": [
            "決定木の正解率: 0.9259\n",
            "ランダムフォレストの正解率: 0.9630\n"
          ]
        }
      ],
      "source": [
        "from sklearn.datasets import load_wine\n",
        "from sklearn.model_selection import train_test_split\n",
        "from sklearn.tree import DecisionTreeClassifier\n",
        "from sklearn.ensemble import RandomForestClassifier\n",
        "from sklearn.metrics import accuracy_score\n",
        "\n",
        "dataset = load_wine()\n",
        "X = dataset.data\n",
        "y = dataset.target\n",
        "\n",
        "X_train, X_test, y_train, y_test = train_test_split(X, y, test_size=0.3, random_state=5)\n",
        "\n",
        "decision_tree_model = DecisionTreeClassifier(random_state=3)\n",
        "model = RandomForestClassifier(random_state=3)\n",
        "\n",
        "model.fit(X_train, y_train)\n",
        "y_pred = model.predict(X_test)\n",
        "rf_accuracy = accuracy_score(y_test, y_pred)\n",
        "\n",
        "decision_tree_model.fit(X_train, y_train)\n",
        "dt_pred = decision_tree_model.predict(X_test)\n",
        "dt_accuracy = accuracy_score(y_test, dt_pred)\n",
        "\n",
        "print(f\"決定木の正解率: {dt_accuracy:.4f}\")\n",
        "print(f\"ランダムフォレストの正解率: {rf_accuracy:.4f}\")"
      ]
    }
  ]
}