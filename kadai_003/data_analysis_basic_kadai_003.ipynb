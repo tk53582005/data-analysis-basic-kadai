{
  "nbformat": 4,
  "nbformat_minor": 0,
  "metadata": {
    "colab": {
      "provenance": []
    },
    "kernelspec": {
      "name": "python3",
      "display_name": "Python 3"
    },
    "language_info": {
      "name": "python"
    }
  },
  "cells": [
    {
      "cell_type": "code",
      "source": [
        "import numpy as np\n",
        "\n",
        "A = np.array([[0, 1],\n",
        "              [2, 3],\n",
        "              [4, 5]])\n",
        "\n",
        "B = np.array([[0, 1, 2, 3],\n",
        "              [4, 5, 6, 7]])\n",
        "\n",
        "print(\"行列A:\")\n",
        "print(A)\n",
        "print(\"\\n行列B:\")\n",
        "print(B)\n",
        "\n",
        "result = np.dot(A, B)\n",
        "\n",
        "print(\"\\n行列の積 A × B:\")\n",
        "print(result)\n",
        "\n",
        "max_value = np.max(result)\n",
        "print(f\"\\n計算結果の最大値: {max_value}\")"
      ],
      "metadata": {
        "colab": {
          "base_uri": "https://localhost:8080/"
        },
        "id": "8EL_phw7WLAl",
        "outputId": "176db7be-83d8-49a6-e8aa-3a248080a34f"
      },
      "execution_count": 9,
      "outputs": [
        {
          "output_type": "stream",
          "name": "stdout",
          "text": [
            "行列A:\n",
            "[[0 1]\n",
            " [2 3]\n",
            " [4 5]]\n",
            "\n",
            "行列B:\n",
            "[[0 1 2 3]\n",
            " [4 5 6 7]]\n",
            "\n",
            "行列の積 A × B:\n",
            "[[ 4  5  6  7]\n",
            " [12 17 22 27]\n",
            " [20 29 38 47]]\n",
            "\n",
            "計算結果の最大値: 47\n"
          ]
        }
      ]
    }
  ]
}